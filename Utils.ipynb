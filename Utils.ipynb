{
 "cells": [
  {
   "cell_type": "code",
   "execution_count": 36,
   "id": "bc718e5b",
   "metadata": {},
   "outputs": [],
   "source": [
    "def concat(elements, concatString, noPreConcatString = [], noPostConcatString = []):\n",
    "    ret = None\n",
    "    \n",
    "    previousElement = \"\"\n",
    "    if elements is not None:\n",
    "        ret = \"\"\n",
    "    \n",
    "        for index, element in enumerate(elements):\n",
    "            \n",
    "            if element not in noPreConcatString and previousElement not in noPostConcatString and index > 0:\n",
    "                ret += \" \"\n",
    "            \n",
    "            ret += element\n",
    "            previousElement = element\n",
    "    \n",
    "    return ret"
   ]
  }
 ],
 "metadata": {
  "kernelspec": {
   "display_name": "Python 3 (ipykernel)",
   "language": "python",
   "name": "python3"
  },
  "language_info": {
   "codemirror_mode": {
    "name": "ipython",
    "version": 3
   },
   "file_extension": ".py",
   "mimetype": "text/x-python",
   "name": "python",
   "nbconvert_exporter": "python",
   "pygments_lexer": "ipython3",
   "version": "3.10.12"
  }
 },
 "nbformat": 4,
 "nbformat_minor": 5
}
