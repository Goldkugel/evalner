{
 "cells": [
  {
   "cell_type": "code",
   "execution_count": 36,
   "id": "bc718e5b",
   "metadata": {},
   "outputs": [],
   "source": [
    "import pandas as pd\n",
    "import itertools\n",
    "import math\n",
    "\n",
    "from pandas import concat\n",
    "\n",
    "from ipynb.fs.full.Utils              import *\n",
    "from ipynb.fs.full.Values             import *\n",
    "from ipynb.fs.full.ReturnValue        import *"
   ]
  },
  {
   "cell_type": "code",
   "execution_count": null,
   "id": "aaf29241",
   "metadata": {},
   "outputs": [],
   "source": [
    "def concat(elements, noPreConcatString = [], noPostConcatString = []):\n",
    "    ret = None\n",
    "    \n",
    "    previousElement = EMPTYSTRING\n",
    "    if elements is not None:\n",
    "        ret = EMPTYSTRING\n",
    "    \n",
    "        for index, element in enumerate(elements):\n",
    "            \n",
    "            if (element not in noPreConcatString and \n",
    "                previousElement not in noPostConcatString and index > 0):\n",
    "                ret += SPACE\n",
    "            \n",
    "            ret += element\n",
    "            previousElement = element\n",
    "    \n",
    "    return ret"
   ]
  },
  {
   "cell_type": "code",
   "execution_count": null,
   "id": "ada02615",
   "metadata": {},
   "outputs": [],
   "source": [
    "def createSentences(data, noPreSpaceCharacters, noPostSpaceCharacters):\n",
    "    ret = None\n",
    "\n",
    "    if (data.getSentenceIDColumn() is not None and \n",
    "        data.getWordColumn() is not None):\n",
    "        \n",
    "        sentenceIDs = data.getData()[data.getSentenceIDColumn()].unique()\n",
    "        ret = [EMPTYSTRING] * len(sentenceIDs)\n",
    "\n",
    "        Logger.getSingletonLogger().startPrintProgress(len(sentenceIDs))\n",
    "        \n",
    "        for sentenceIndex, sentenceID in enumerate(sentenceIDs):\n",
    "            sentenceWords = data.getData()[data.getData()[data.\n",
    "                getSentenceIDColumn()] == sentenceID]\n",
    "            sentenceWords = sentenceWords[data.getWordColumn()]\n",
    "            \n",
    "            ret[sentenceIndex] = concat(sentenceWords, \n",
    "                noPreSpaceCharacters, noPostSpaceCharacters)\n",
    "\n",
    "            Logger.getSingletonLogger().printProgress()\n",
    "\n",
    "    return ret"
   ]
  },
  {
   "cell_type": "code",
   "execution_count": null,
   "id": "ca158cd5",
   "metadata": {},
   "outputs": [],
   "source": [
    "def diffWord(data, words, prints = FIVE):\n",
    "    ret = ReturnValue(ZERO)\n",
    "\n",
    "    if (data is not None and words is not None and data.getData() is not None \n",
    "        and data.getWordColumn() is not None):\n",
    "            \n",
    "        now = datetime.now()\n",
    "        length = len(data.getData())\n",
    "\n",
    "        Logger.getSingletonLogger().startPrintProgress(length)\n",
    "\n",
    "        for index in range(ZERO, length):\n",
    "            \n",
    "            row = data.getData().loc[index]\n",
    "\n",
    "            if index < len(words) and row[data.getWordColumn()] != words[index]:\n",
    "\n",
    "                Logger.printInfo(\"Difference found.\")\n",
    "                fromIndex = index - prints\n",
    "                if (fromIndex < ZERO):\n",
    "                    fromIndex = ZERO\n",
    "                toIndex = index + prints\n",
    "                if (toIndex > len(data.getData())):\n",
    "                    toIndex = len(data.getData())\n",
    "\n",
    "                for printIndex in range(fromIndex, toIndex):\n",
    "                    if printIndex == index:\n",
    "                        Logger.getSingletonLogger().printInfo(printIndex)\n",
    "                    Logger.getSingletonLogger().printInfo(diff.format(\n",
    "                        data.getData()[data.getWordColumn()][printIndex], \n",
    "                        words[printIndex]))\n",
    "                break\n",
    "\n",
    "            Logger.printProgress()\n",
    "    else:\n",
    "        Logger.getSingletonLogger().printWarning(diffWordsNotPossible)\n",
    "        ret.setValue(ONE)\n",
    "    \n",
    "    return ret"
   ]
  }
 ],
 "metadata": {
  "kernelspec": {
   "display_name": "Python 3 (ipykernel)",
   "language": "python",
   "name": "python3"
  },
  "language_info": {
   "codemirror_mode": {
    "name": "ipython",
    "version": 3
   },
   "file_extension": ".py",
   "mimetype": "text/x-python",
   "name": "python",
   "nbconvert_exporter": "python",
   "pygments_lexer": "ipython3",
   "version": "3.10.12"
  }
 },
 "nbformat": 4,
 "nbformat_minor": 5
}
