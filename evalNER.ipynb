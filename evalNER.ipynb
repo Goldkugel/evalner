{
 "cells": [
  {
   "cell_type": "code",
   "execution_count": 1,
   "metadata": {},
   "outputs": [],
   "source": [
    "from datetime              import datetime, timedelta\n",
    "from transformers          import AutoTokenizer\n",
    "from transformers          import AutoModelForTokenClassification\n",
    "from transformers          import pipeline\n",
    "\n",
    "import math\n",
    "import torch\n",
    "import pandas as pd\n",
    "\n",
    "from ipynb.fs.full.Values                              import *\n",
    "from ipynb.fs.full.Logger                              import *\n",
    "from ipynb.fs.full.ReturnValue                         import *\n",
    "from ipynb.fs.full.Utils                               import *\n",
    "from ipynb.fs.full.Data                                import *\n",
    "from ipynb.fs.full.DataManipulation                    import *\n",
    "from ipynb.fs.full.TaskList                            import *\n",
    "from ipynb.fs.full.Task                                import *\n"
   ]
  },
  {
   "cell_type": "code",
   "execution_count": 2,
   "metadata": {},
   "outputs": [],
   "source": [
    "processes = 1\n",
    "percentPeriod = ONE / TEN\n",
    "loggerFormat = \"[%(levelname)-7s] [%(asctime)s, %(process)6s]: %(message)s\"\n",
    "loggerDateFormat = \"%Y/%m/%d %H:%M:%S\"\n",
    "loggerName = \"logger\"\n",
    "logLevel = \"INFO\"\n",
    "dataDirectory = \"./data/data.csv\"\n",
    "outputData = \"./data/preparedData.csv\"\n",
    "experimentName = \"DiseaseDetection\"\n",
    "taskName = \"DataPreparation\"\n",
    "skipIfAlreadyDone = True\n",
    "\n",
    "\n",
    "splitAtParams = [\n",
    "    [\"001splitAtMinus\", \"-\"], \n",
    "    [\"002splitAtSlash\", \"/\"], \n",
    "    [\"003splitAtEqualSign\", \"=\"], \n",
    "    [\"004splitAtPeriod\", \".\"], \n",
    "    [\"005splitAtDoublePoint\", \":\"], \n",
    "    [\"006splitAtSingleQuote\", \"'\"], \n",
    "    [\"007splitAtPlus\", \"+\"], \n",
    "    [\"008splitAtPoint\", \"·\"], \n",
    "    [\"009splitAtMinus2\", \"–\"], \n",
    "    [\"010splitAtStar\", \"*\"], \n",
    "    [\"011splitAtMinus3\", \"—\"], \n",
    "    [\"012splitAtComma\", \",\"],\n",
    "    [\"013splitAtTilde\", \"~\"],\n",
    "    [\"014splitAtBigPoint\", \"•\"],\n",
    "    [\"015splitAtUnderscore\", \"_\"],\n",
    "    [\"016splitAtMinus4\", \"‑\"],\n",
    "    [\"017splitAtTriplePoint\", \"…\"],\n",
    "    [\"018splitAtSingleQuote2\", \"׳\"]\n",
    "]\n",
    "\n",
    "wordCol = \"Word\"\n",
    "labelCol = \"tag\"\n",
    "wordIDCol = \"id\"\n",
    "docIDCol = \"Doc_ID\"\n",
    "sentIDCol = \"Sent_ID\""
   ]
  },
  {
   "cell_type": "code",
   "execution_count": 3,
   "metadata": {},
   "outputs": [
    {
     "name": "stderr",
     "output_type": "stream",
     "text": [
      "[INFO   ] [2024/06/05 10:11:13, 134425]: Logger initialized.\n"
     ]
    }
   ],
   "source": [
    "log = Logger()\n",
    "ret = log.createLogger(loggerName, loggerFormat, loggerDateFormat, logLevel)\n",
    "ret = Logger.setSingletonLogger(log)\n",
    "ret = log.setPrintPercentPeriod(percentPeriod)\n",
    "ret = log.printInfo(\"Logger initialized.\")"
   ]
  },
  {
   "cell_type": "code",
   "execution_count": 4,
   "metadata": {},
   "outputs": [],
   "source": [
    "tasklist = TaskList()\n",
    "tasklist.setInputData(dataDirectory).eval()\n",
    "tasklist.setOutputData(outputData).eval()\n",
    "tasklist.setExperimentName(experimentName).eval()\n",
    "tasklist.setRunName(taskName).eval()\n",
    "tasklist.setColumns(wordCol, labelCol, wordIDCol, docIDCol, sentIDCol).eval()"
   ]
  },
  {
   "cell_type": "code",
   "execution_count": 5,
   "metadata": {},
   "outputs": [],
   "source": [
    "for splitChar in splitAtParams:\n",
    "    tasklist.newTask(splitChar[ZERO], splitAtIndex, splitChar[ONE]).eval()\n",
    "    t = tasklist.getTask(len(tasklist.getTaskList()) - ONE)\n",
    "    t.setSkipIfAlreadyDone(skipIfAlreadyDone)\n",
    "    t.setStandardFiles(processes).eval()"
   ]
  },
  {
   "cell_type": "code",
   "execution_count": 6,
   "metadata": {},
   "outputs": [
    {
     "name": "stderr",
     "output_type": "stream",
     "text": [
      "[INFO   ] [2024/06/05 10:11:13, 134425]: Starting Task \"001splitAtMinus\".\n",
      "[INFO   ] [2024/06/05 10:11:13, 134425]: Splitting the data.\n",
      "[WARNING] [2024/06/05 10:11:20, 134425]: Task \"001splitAtMinus\" was skipped. [Value: 2]\n",
      "[WARNING] [2024/06/05 10:11:20, 134425]: Some output files for task \"001splitAtMinus\" are existing. [Value: 1]\n",
      "[INFO   ] [2024/06/05 10:11:20, 134425]: Starting Task \"002splitAtSlash\".\n",
      "[INFO   ] [2024/06/05 10:11:20, 134425]: Copy data for next task.\n",
      "[WARNING] [2024/06/05 10:11:20, 134425]: Task \"002splitAtSlash\" was skipped. [Value: 2]\n",
      "[WARNING] [2024/06/05 10:11:20, 134425]: Some output files for task \"002splitAtSlash\" are existing. [Value: 1]\n",
      "[INFO   ] [2024/06/05 10:11:20, 134425]: Starting Task \"003splitAtEqualSign\".\n",
      "[INFO   ] [2024/06/05 10:11:20, 134425]: Copy data for next task.\n",
      "[WARNING] [2024/06/05 10:11:20, 134425]: Task \"003splitAtEqualSign\" was skipped. [Value: 2]\n",
      "[WARNING] [2024/06/05 10:11:20, 134425]: Some output files for task \"003splitAtEqualSign\" are existing. [Value: 1]\n",
      "[INFO   ] [2024/06/05 10:11:20, 134425]: Starting Task \"004splitAtPeriod\".\n",
      "[INFO   ] [2024/06/05 10:11:20, 134425]: Copy data for next task.\n",
      "[WARNING] [2024/06/05 10:11:20, 134425]: Task \"004splitAtPeriod\" was skipped. [Value: 2]\n",
      "[WARNING] [2024/06/05 10:11:20, 134425]: Some output files for task \"004splitAtPeriod\" are existing. [Value: 1]\n",
      "[INFO   ] [2024/06/05 10:11:20, 134425]: Starting Task \"005splitAtDoublePoint\".\n",
      "[INFO   ] [2024/06/05 10:11:20, 134425]: Copy data for next task.\n",
      "[WARNING] [2024/06/05 10:11:20, 134425]: Task \"005splitAtDoublePoint\" was skipped. [Value: 2]\n",
      "[WARNING] [2024/06/05 10:11:20, 134425]: Some output files for task \"005splitAtDoublePoint\" are existing. [Value: 1]\n",
      "[INFO   ] [2024/06/05 10:11:20, 134425]: Starting Task \"006splitAtSingleQuote\".\n",
      "[INFO   ] [2024/06/05 10:11:20, 134425]: Copy data for next task.\n",
      "[WARNING] [2024/06/05 10:11:20, 134425]: Task \"006splitAtSingleQuote\" was skipped. [Value: 2]\n",
      "[WARNING] [2024/06/05 10:11:20, 134425]: Some output files for task \"006splitAtSingleQuote\" are existing. [Value: 1]\n",
      "[INFO   ] [2024/06/05 10:11:20, 134425]: Starting Task \"007splitAtPlus\".\n",
      "[INFO   ] [2024/06/05 10:11:20, 134425]: Copy data for next task.\n",
      "[WARNING] [2024/06/05 10:11:20, 134425]: Task \"007splitAtPlus\" was skipped. [Value: 2]\n",
      "[WARNING] [2024/06/05 10:11:20, 134425]: Some output files for task \"007splitAtPlus\" are existing. [Value: 1]\n",
      "[INFO   ] [2024/06/05 10:11:20, 134425]: Starting Task \"008splitAtPoint\".\n",
      "[INFO   ] [2024/06/05 10:11:20, 134425]: Copy data for next task.\n",
      "[WARNING] [2024/06/05 10:11:20, 134425]: Task \"008splitAtPoint\" was skipped. [Value: 2]\n",
      "[WARNING] [2024/06/05 10:11:20, 134425]: Some output files for task \"008splitAtPoint\" are existing. [Value: 1]\n",
      "[INFO   ] [2024/06/05 10:11:20, 134425]: Starting Task \"009splitAtMinus2\".\n",
      "[INFO   ] [2024/06/05 10:11:20, 134425]: Copy data for next task.\n",
      "[WARNING] [2024/06/05 10:11:20, 134425]: Task \"009splitAtMinus2\" was skipped. [Value: 2]\n",
      "[WARNING] [2024/06/05 10:11:20, 134425]: Some output files for task \"009splitAtMinus2\" are existing. [Value: 1]\n",
      "[INFO   ] [2024/06/05 10:11:20, 134425]: Starting Task \"010splitAtStar\".\n",
      "[INFO   ] [2024/06/05 10:11:20, 134425]: Copy data for next task.\n",
      "[WARNING] [2024/06/05 10:11:20, 134425]: Task \"010splitAtStar\" was skipped. [Value: 2]\n",
      "[WARNING] [2024/06/05 10:11:20, 134425]: Some output files for task \"010splitAtStar\" are existing. [Value: 1]\n",
      "[INFO   ] [2024/06/05 10:11:20, 134425]: Starting Task \"011splitAtMinus3\".\n",
      "[INFO   ] [2024/06/05 10:11:20, 134425]: Copy data for next task.\n",
      "[WARNING] [2024/06/05 10:11:20, 134425]: Task \"011splitAtMinus3\" was skipped. [Value: 2]\n",
      "[WARNING] [2024/06/05 10:11:20, 134425]: Some output files for task \"011splitAtMinus3\" are existing. [Value: 1]\n",
      "[INFO   ] [2024/06/05 10:11:20, 134425]: Starting Task \"012splitAtComma\".\n",
      "[INFO   ] [2024/06/05 10:11:20, 134425]: Copy data for next task.\n",
      "[WARNING] [2024/06/05 10:11:20, 134425]: Task \"012splitAtComma\" was skipped. [Value: 2]\n",
      "[WARNING] [2024/06/05 10:11:20, 134425]: Some output files for task \"012splitAtComma\" are existing. [Value: 1]\n",
      "[INFO   ] [2024/06/05 10:11:20, 134425]: Starting Task \"013splitAtTilde\".\n",
      "[INFO   ] [2024/06/05 10:11:20, 134425]: Copy data for next task.\n",
      "[WARNING] [2024/06/05 10:11:20, 134425]: Task \"013splitAtTilde\" was skipped. [Value: 2]\n",
      "[WARNING] [2024/06/05 10:11:20, 134425]: Some output files for task \"013splitAtTilde\" are existing. [Value: 1]\n",
      "[INFO   ] [2024/06/05 10:11:20, 134425]: Starting Task \"014splitAtBigPoint\".\n",
      "[INFO   ] [2024/06/05 10:11:20, 134425]: Copy data for next task.\n",
      "[WARNING] [2024/06/05 10:11:20, 134425]: Task \"014splitAtBigPoint\" was skipped. [Value: 2]\n",
      "[WARNING] [2024/06/05 10:11:20, 134425]: Some output files for task \"014splitAtBigPoint\" are existing. [Value: 1]\n",
      "[INFO   ] [2024/06/05 10:11:20, 134425]: Starting Task \"015splitAtUnderscore\".\n",
      "[INFO   ] [2024/06/05 10:11:20, 134425]: Copy data for next task.\n",
      "[WARNING] [2024/06/05 10:11:20, 134425]: Task \"015splitAtUnderscore\" was skipped. [Value: 2]\n",
      "[WARNING] [2024/06/05 10:11:20, 134425]: Some output files for task \"015splitAtUnderscore\" are existing. [Value: 1]\n",
      "[INFO   ] [2024/06/05 10:11:20, 134425]: Starting Task \"016splitAtMinus4\".\n",
      "[INFO   ] [2024/06/05 10:11:20, 134425]: Copy data for next task.\n",
      "[WARNING] [2024/06/05 10:11:20, 134425]: Task \"016splitAtMinus4\" was skipped. [Value: 2]\n",
      "[WARNING] [2024/06/05 10:11:20, 134425]: Some output files for task \"016splitAtMinus4\" are existing. [Value: 1]\n",
      "[INFO   ] [2024/06/05 10:11:20, 134425]: Starting Task \"017splitAtTriplePoint\".\n",
      "[INFO   ] [2024/06/05 10:11:20, 134425]: Copy data for next task.\n",
      "[WARNING] [2024/06/05 10:11:20, 134425]: Task \"017splitAtTriplePoint\" was skipped. [Value: 2]\n",
      "[WARNING] [2024/06/05 10:11:20, 134425]: Some output files for task \"017splitAtTriplePoint\" are existing. [Value: 1]\n",
      "[INFO   ] [2024/06/05 10:11:20, 134425]: Starting Task \"018splitAtSingleQuote2\".\n",
      "[INFO   ] [2024/06/05 10:11:20, 134425]: Copy data for next task.\n",
      "[WARNING] [2024/06/05 10:11:20, 134425]: Task \"018splitAtSingleQuote2\" was skipped. [Value: 2]\n",
      "[WARNING] [2024/06/05 10:11:20, 134425]: Some output files for task \"018splitAtSingleQuote2\" are existing. [Value: 1]\n"
     ]
    }
   ],
   "source": [
    "tasklist.start().eval()"
   ]
  },
  {
   "cell_type": "code",
   "execution_count": null,
   "metadata": {},
   "outputs": [],
   "source": []
  }
 ],
 "metadata": {
  "kernelspec": {
   "display_name": "Python 3 (ipykernel)",
   "language": "python",
   "name": "python3"
  },
  "language_info": {
   "codemirror_mode": {
    "name": "ipython",
    "version": 3
   },
   "file_extension": ".py",
   "mimetype": "text/x-python",
   "name": "python",
   "nbconvert_exporter": "python",
   "pygments_lexer": "ipython3",
   "version": "3.10.12"
  }
 },
 "nbformat": 4,
 "nbformat_minor": 2
}
